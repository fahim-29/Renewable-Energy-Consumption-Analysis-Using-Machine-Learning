{
 "cells": [
  {
   "cell_type": "code",
   "execution_count": null,
   "id": "00ced7f8",
   "metadata": {},
   "outputs": [],
   "source": [
    "import seaborn as sns\n",
    "print(\"Seaborn is installed and working!\")\n"
   ]
  },
  {
   "cell_type": "code",
   "execution_count": null,
   "id": "ed2a6264-dfbc-408b-b337-47b499d88105",
   "metadata": {},
   "outputs": [],
   "source": [
    "import pandas as pd\n",
    "import numpy as np\n",
    "import matplotlib.pyplot as plt\n",
    "import seaborn as sns\n",
    "\n",
    "import plotly.express as px\n",
    "import plotly.graph_objects as go\n",
    "import plotly.offline as pyo \n",
    "import plotly.io as pio\n",
    "\n",
    "import plotly.express as px\n",
    "from plotly.offline import iplot , plot\n",
    "from plotly.subplots import make_subplots\n",
    "\n",
    "\n",
    "import warnings\n",
    "warnings.filterwarnings('ignore')\n",
    "\n",
    "\n",
    "\n",
    "\n",
    "from statsmodels.tsa.stattools import adfuller\n",
    "from statsmodels.tsa.arima.model import ARIMA\n",
    "from sklearn.preprocessing import MinMaxScaler\n",
    "import tensorflow as tf\n",
    "from tensorflow.keras.models import Sequential\n",
    "from tensorflow.keras.layers import LSTM, Dense"
   ]
  },
  {
   "cell_type": "code",
   "execution_count": null,
   "id": "35b11c86",
   "metadata": {},
   "outputs": [],
   "source": [
    "df=pd.read_csv(\"/Users/macfreaks/Downloads/Renewable_energy.csv\")"
   ]
  },
  {
   "cell_type": "code",
   "execution_count": null,
   "id": "a52b54fe",
   "metadata": {},
   "outputs": [],
   "source": [
    "df"
   ]
  },
  {
   "cell_type": "code",
   "execution_count": null,
   "id": "240f5f6c",
   "metadata": {},
   "outputs": [],
   "source": [
    "df.head()\n",
    "df.tail()"
   ]
  },
  {
   "cell_type": "code",
   "execution_count": null,
   "id": "474ed9b5",
   "metadata": {},
   "outputs": [],
   "source": [
    "\n",
    "df.info()"
   ]
  },
  {
   "cell_type": "markdown",
   "id": "90ff9393",
   "metadata": {},
   "source": [
    "## Inspection and cleaning "
   ]
  },
  {
   "cell_type": "code",
   "execution_count": null,
   "id": "90ade00a",
   "metadata": {},
   "outputs": [],
   "source": [
    "\n",
    "df.isnull().sum()"
   ]
  },
  {
   "cell_type": "code",
   "execution_count": null,
   "id": "fc233af1",
   "metadata": {},
   "outputs": [],
   "source": [
    "def summary(df):\n",
    "    print(f'data shape: {df.shape}')\n",
    "    summ = pd.DataFrame(df.dtypes, columns=['Data Type'])\n",
    "    summ['Missing#'] = df.isna().sum()\n",
    "    summ['Missing%'] = (df.isna().sum())/len(df)\n",
    "    summ['Dups'] = df.duplicated().sum()\n",
    "    summ['Uniques'] = df.nunique().values\n",
    "    summ['Count'] = df.count().values\n",
    "    desc = pd.DataFrame(df.describe(include='all').transpose())\n",
    "    summ['Min'] = desc['min'].values\n",
    "    summ['Max'] = desc['max'].values\n",
    "    summ['Average'] = desc['mean'].values\n",
    "    summ['Standard Deviation'] = desc['std'].values\n",
    "    summ['First Value'] = df.loc[0].values\n",
    "    summ['Second Value'] = df.loc[1].values\n",
    "    summ['Third Value'] = df.loc[2].values\n",
    "\n",
    "    display(summ)\n",
    "\n",
    "summary(df)"
   ]
  },
  {
   "cell_type": "code",
   "execution_count": null,
   "id": "a0be6800",
   "metadata": {},
   "outputs": [],
   "source": [
    "\n",
    "\n",
    "index_names = df[ df['Year'] == 2024 ].index\n",
    "\n",
    "df.drop(index_names, inplace = True)"
   ]
  },
  {
   "cell_type": "code",
   "execution_count": null,
   "id": "64538c95",
   "metadata": {},
   "outputs": [],
   "source": [
    "df.head(10)"
   ]
  },
  {
   "cell_type": "markdown",
   "id": "722db48b",
   "metadata": {},
   "source": [
    "\n",
    "\n",
    "## Explainatory Data Analysis and Types of Energy"
   ]
  },
  {
   "cell_type": "code",
   "execution_count": null,
   "id": "d4356cb4",
   "metadata": {},
   "outputs": [],
   "source": [
    "cols = ['Hydroelectric Power', 'Geothermal Energy', 'Solar Energy', 'Wind Energy',\n",
    "       'Waste Energy', 'Fuel Ethanol, Excluding Denaturant', 'Biomass Losses and Co-products',\n",
    "       'Renewable Diesel Fuel', 'Other Biofuels', 'Conventional Hydroelectric Power',\n",
    "       'Biodiesel']\n",
    "\n",
    "sectors = ['Commerical', 'Electric Power', 'Industrial', 'Residential',\n",
    "           'Transportation']\n",
    "\n",
    "colors = [\"#8c0404\",\"#f25ed0\",\"#21618C\",\"#16A085\",\"#34495E\"]"
   ]
  },
  {
   "cell_type": "code",
   "execution_count": null,
   "id": "df961734",
   "metadata": {},
   "outputs": [],
   "source": [
    "fig, axes = plt.subplots(11, 1, figsize=(8, 40))\n",
    "\n",
    "for ind, col in enumerate(cols):\n",
    "    plt.subplot(11, 1, ind+1)\n",
    "    df_top = df.groupby(['Year'])[[col]].sum().reset_index()\n",
    "    df_top = df_top.sort_values(by=(col), ascending=False)\n",
    "\n",
    "    sns.barplot(x=df_top[\"Year\"], y=df_top[col], palette=\"Blues\")\n",
    "    plt.yticks(rotation=45, fontsize = 7)\n",
    "    plt.xticks(rotation=90, fontsize = 7)   \n",
    "    plt.title(f\"Consumption per Year according to {col}\", fontsize = 12, color = 'blue')\n",
    "\n",
    "plt.tight_layout()"
   ]
  },
  {
   "cell_type": "code",
   "execution_count": null,
   "id": "ca95d7d2",
   "metadata": {},
   "outputs": [],
   "source": [
    "df_year = df.groupby('Year').sum().reset_index().drop(columns=['Month'])\n",
    "plt.figure(figsize=(12, 6))\n",
    "for energy_type in cols:\n",
    "    plt.plot(df_year['Year'], df_year[energy_type], label=energy_type)\n",
    "\n",
    "plt.xlabel('Year')\n",
    "plt.ylabel('Energy Consumption')\n",
    "plt.title(f'Year-on-Year Consumption of Different Types of Energy',  fontsize = 15, color = 'blue')\n",
    "plt.legend(loc='upper left', bbox_to_anchor=(1, 1))\n",
    "\n",
    "plt.tight_layout()\n",
    "plt.show()\n"
   ]
  },
  {
   "cell_type": "code",
   "execution_count": null,
   "id": "16db6496",
   "metadata": {},
   "outputs": [],
   "source": [
    "df_year = df.groupby('Year').sum().reset_index().drop(columns=['Month'])\n",
    "\n",
    "# Plot\n",
    "df_year.plot(x=\"Year\", y=['Wind Energy', 'Conventional Hydroelectric Power', 'Solar Energy'],\n",
    "        kind=\"line\", figsize=(10, 6))\n",
    "plt.title(\"Wind / Solar vs Conventional Hydroelectric Power\", fontsize = 16, color = 'blue')\n",
    "plt.ylabel('Consumption', rotation=90, fontsize = 10)\n",
    "plt.annotate('Surpasses',\n",
    "      horizontalalignment = 'left',\n",
    "      verticalalignment = 'bottom',\n",
    "      xytext = (2012, 1200),\n",
    "      xy = (2018.5, 1000),\n",
    "      arrowprops = dict(facecolor = 'red', shrink = 0.05))\n",
    "plt.annotate('Surpasses',\n",
    "      horizontalalignment = 'left',\n",
    "      verticalalignment = 'bottom',\n",
    "      xytext = (2020, 1100),\n",
    "      xy = (2022.5, 850),\n",
    "      arrowprops = dict(facecolor = 'yellow', shrink = 0.05))\n",
    "\n",
    "plt.grid()\n",
    "plt.show()"
   ]
  },
  {
   "cell_type": "code",
   "execution_count": null,
   "id": "4cbc3377",
   "metadata": {},
   "outputs": [],
   "source": [
    "df['Sector'].unique()"
   ]
  },
  {
   "cell_type": "code",
   "execution_count": null,
   "id": "54b9a940",
   "metadata": {},
   "outputs": [],
   "source": [
    "for i in cols:\n",
    "    \n",
    "    if i == 'Hydroelectric Power':\n",
    "\n",
    "        df_top = df.groupby(['Sector'])[['Hydroelectric Power']].sum()#.reset_index()\n",
    "        df_top = df_top.sort_values(by=(\"Hydroelectric Power\"), ascending=False).head(10)\n",
    "\n",
    "        iplot(px.bar(df_top[:10],\n",
    "             text_auto = True,\n",
    "             color = df_top[:10].index,\n",
    "             color_discrete_sequence = colors, \n",
    "             labels=dict(index=\"Count Names\",value=\"Count\"),\n",
    "             title = 'Top Sectors acording to Hydroelectric Power Consumption'\n",
    "            ))   \n",
    "    \n",
    "    else:\n",
    "        \n",
    "        df_top = df.groupby(['Sector'])[[i]].sum()#.reset_index()\n",
    "        df_top = df_top.sort_values(by=[i], ascending=False).head()\n",
    "\n",
    "        iplot(px.bar(df_top[:5],\n",
    "             text_auto = True,\n",
    "             color = df_top[:5].index,\n",
    "             color_discrete_sequence = colors, \n",
    "             labels=dict(index=\"Count Names\",value=\"Count\"),\n",
    "             title = 'Top Sectors acording to ' +i+ ' Consumption'\n",
    "             ))"
   ]
  },
  {
   "cell_type": "code",
   "execution_count": null,
   "id": "2ec5f833",
   "metadata": {},
   "outputs": [],
   "source": [
    "for i in sectors:\n",
    "    \n",
    "    if i == 'Commerical':\n",
    "        df_sec = df[df['Sector'] == 'Commerical']\n",
    "        df_sec = df_sec.groupby('Year')[cols].sum().reset_index()\n",
    "\n",
    "        df_sec.plot(x=\"Year\", y=cols, kind=\"line\", figsize=(8, 5))\n",
    "        plt.title(\"Energy Consumption by Commerical over the years\", fontsize = 14, color = 'blue')\n",
    "        plt.ylabel('Energy Consumption', rotation=90, fontsize = 10)\n",
    "        plt.legend(loc='upper left', bbox_to_anchor=(1, 1))\n",
    "\n",
    "        plt.grid()\n",
    "        plt.show()\n",
    "    else:\n",
    "        df_sec = df[df['Sector'] == i]\n",
    "        df_sec = df_sec.groupby('Year')[cols].sum().reset_index()\n",
    "\n",
    "        df_sec.plot(x=\"Year\", y=cols, kind=\"line\", figsize=(8, 5))\n",
    "        plt.title(f\"Energy Consumption by {i} over the years\", fontsize = 14, color = 'blue')\n",
    "        plt.ylabel('Energy Consumption', rotation=90, fontsize = 10)\n",
    "        plt.legend(loc='upper left', bbox_to_anchor=(1, 1))\n",
    "\n",
    "        plt.grid()\n",
    "        plt.show()\n"
   ]
  },
  {
   "cell_type": "code",
   "execution_count": null,
   "id": "a8b6396b",
   "metadata": {},
   "outputs": [],
   "source": [
    "df_2023 = df[df['Year'] == 2023]\n",
    "\n",
    "plt.figure(figsize=(12, 6))\n",
    "bottom = np.zeros(len(df_2023))\n",
    "for source in cols:\n",
    "    plt.bar(df_2023['Sector'], df_2023[source], bottom=bottom, label=source)\n",
    "    bottom += df_2023[source]\n",
    "plt.xlabel('Sector')\n",
    "plt.ylabel('Energy')\n",
    "plt.title(f'Energy Sources by Sector in 2023')\n",
    "plt.legend(bbox_to_anchor=(1.02, 1))\n",
    "plt.tight_layout()\n",
    "plt.show()"
   ]
  },
  {
   "cell_type": "code",
   "execution_count": null,
   "id": "8874f05a",
   "metadata": {},
   "outputs": [],
   "source": [
    "df['Total_Energy'] = df['Hydroelectric Power'] + df['Geothermal Energy'] + df['Solar Energy']+ df['Wind Energy'] + df['Wood Energy'] + df['Waste Energy'] + df['Fuel Ethanol, Excluding Denaturant'] + df['Biomass Losses and Co-products'] + df['Biomass Energy'] + df['Renewable Diesel Fuel'] + df['Other Biofuels'] + df['Conventional Hydroelectric Power'] + df['Biodiesel']"
   ]
  },
  {
   "cell_type": "code",
   "execution_count": null,
   "id": "920c2cdc",
   "metadata": {},
   "outputs": [],
   "source": [
    "df_com = df[df['Sector'] == 'Commerical']\n",
    "df_ele = df[df['Sector'] == 'Electric Power']\n",
    "df_ind = df[df['Sector'] == 'Industrial']\n",
    "df_res = df[df['Sector'] == 'Residential']\n",
    "df_tra = df[df['Sector'] == 'Transportation']\n",
    "\n",
    "# Groupby - Year\n",
    "df_com = df_com.groupby('Year')['Total_Energy'].sum().reset_index()\n",
    "df_ele = df_ele.groupby('Year')['Total_Energy'].sum().reset_index()\n",
    "df_ind = df_ind.groupby('Year')['Total_Energy'].sum().reset_index()\n",
    "df_res = df_res.groupby('Year')['Total_Energy'].sum().reset_index()\n",
    "df_tra = df_tra.groupby('Year')['Total_Energy'].sum().reset_index()\n"
   ]
  },
  {
   "cell_type": "code",
   "execution_count": null,
   "id": "5b0ef869",
   "metadata": {},
   "outputs": [],
   "source": [
    "df_com.rename(columns = {'Total_Energy':'Commerical'}, inplace = True)\n",
    "df_ele.rename(columns = {'Total_Energy':'Electric Power'}, inplace = True)\n",
    "df_ind.rename(columns = {'Total_Energy':'Industrial'}, inplace = True)\n",
    "df_res.rename(columns = {'Total_Energy':'Residential'}, inplace = True)\n",
    "df_tra.rename(columns = {'Total_Energy':'Transportation'}, inplace = True)\n",
    "\n",
    "# Concat datasets \n",
    "total_energy = pd.concat([df_com, df_ele, df_ind, df_res, df_tra])"
   ]
  },
  {
   "cell_type": "code",
   "execution_count": null,
   "id": "2ec22475",
   "metadata": {},
   "outputs": [],
   "source": [
    "total_energy.plot(x=\"Year\", y=['Commerical', 'Electric Power', 'Industrial', 'Residential', 'Transportation'],\n",
    "              kind=\"line\", figsize=(10, 6))\n",
    "plt.title(\"Total Energy consumption by Sector over the years\", fontsize = 14, color = 'blue')\n",
    "plt.ylabel('Total_Energy', rotation=90, fontsize = 10)\n",
    "\n",
    "plt.grid()\n",
    "plt.show()"
   ]
  },
  {
   "cell_type": "markdown",
   "id": "746125df",
   "metadata": {},
   "source": [
    "## Correelation Analysis\n"
   ]
  },
  {
   "cell_type": "code",
   "execution_count": null,
   "id": "2d1e99e4",
   "metadata": {},
   "outputs": [],
   "source": [
    "df_encoded = pd.get_dummies(df, columns=['Sector'], drop_first=True)\n",
    "correlation_matrix = df_encoded.drop(columns=['Year', 'Month']).corr()\n",
    "\n",
    "plt.figure(figsize=(12, 10))\n",
    "sns.heatmap(correlation_matrix, annot=True, cmap='coolwarm', fmt=\".2f\")\n",
    "plt.title('Correlation Heatmap between Energy Types and Sectors')\n",
    "plt.show()"
   ]
  },
  {
   "cell_type": "code",
   "execution_count": null,
   "id": "428908c5",
   "metadata": {},
   "outputs": [],
   "source": [
    "\n",
    "\n",
    "correlation_matrix "
   ]
  },
  {
   "cell_type": "markdown",
   "id": "c4392adc",
   "metadata": {},
   "source": [
    "## Positive Correlation:\n",
    "Hydroelectric Power shows strong positive correlations with Wood Energy (0.82) and Waste Energy (0.35). This suggests that these energy types tend to be positively correlated with hydroelectric power production.\n",
    "Wood Energy and Waste Energy also have a positive correlation of 0.36, indicating a tendency for these two energy sources to be positively associated.\n",
    "Total Renewable Energy has positive correlations with many individual renewable energy types, such as Hydroelectric Power (0.50), Geothermal Energy (0.39), and Biomass Energy (0.61). This suggests that overall renewable energy production tends to be positively correlated with the production of various specific renewable energy sources.\n"
   ]
  },
  {
   "cell_type": "markdown",
   "id": "c88d29d1",
   "metadata": {},
   "source": [
    "## Negative Correlation:\n",
    "Geothermal Energy and Wind Energy exhibit a negative correlation (-0.27). This suggests that as production in one of these energy types increases, production in the other tends to decrease.\n",
    "Solar Energy and Wind Energy also show a negative correlation (-0.15), implying a similar negative relationship between these two energy sources.\n",
    "Renewable Diesel Fuel and Other Biofuels show a strong positive correlation of 0.94, indicating a high degree of positive association between these two biofuel types.\n"
   ]
  },
  {
   "cell_type": "markdown",
   "id": "305677fd",
   "metadata": {},
   "source": [
    "## Correlation with Sectors:\n",
    "Electric Power sector has a strong positive correlation with Industrial sector (0.88), suggesting that energy production in these two sectors tends to be positively associated.\n",
    "The Residential sector has a negative correlation with many energy types, indicating a tendency for lower residential energy consumption of these energy sources compared to other sectors.\n",
    "Transportation sector shows a positive correlation with Fuel Ethanol and Other Biofuels, which implies a higher usage of biofuels in transportation compared to other sectors.\n"
   ]
  },
  {
   "cell_type": "markdown",
   "id": "1981ceee",
   "metadata": {},
   "source": [
    "## Hydroelectric Power and Geothermal Energy:\n",
    "Hydroelectric Power shows a moderate negative correlation with Geothermal Energy (-0.27). This suggests that in some cases, the production of hydroelectric power may be inversely related to the production of geothermal energy. This could be due to geographical factors or resource allocation decisions."
   ]
  },
  {
   "cell_type": "markdown",
   "id": "3f9965e3",
   "metadata": {},
   "source": [
    "## Wood Energy and Waste Energy:\n",
    "Wood Energy exhibits a strong positive correlation with Waste Energy (0.36). This correlation suggests that there may be similar factors influencing the production of both wood and waste energy, such as policies promoting biomass utilization or waste-to-energy initiatives."
   ]
  },
  {
   "cell_type": "markdown",
   "id": "2efb730b",
   "metadata": {},
   "source": [
    "## Renewable Diesel Fuel and Other Biofuels:\n",
    "Renewable Diesel Fuel and Other Biofuels display a remarkably high positive correlation of 0.94. This strong correlation implies that these two types of biofuels often experience similar trends in production. It could be indicative of common market drivers, such as government incentives or technological advancements, impacting both biofuel types equally.\n"
   ]
  },
  {
   "cell_type": "markdown",
   "id": "d2b29063",
   "metadata": {},
   "source": [
    "## Sectoral Analysis:\n",
    "The Electric Power sector exhibits a significant positive correlation with the Industrial sector (0.88). This strong correlation suggests that energy consumption and production patterns in these sectors are closely intertwined. It could indicate shared demand drivers, such as economic activity or industrial expansion, leading to increased energy consumption.\n",
    "The Transportation sector shows a notable positive correlation with Fuel Ethanol (0.61) and Other Biofuels (0.48). This suggests that biofuels, particularly ethanol and other alternative fuels, play a significant role in the transportation sector, potentially driven by regulatory mandates or environmental initiatives promoting cleaner fuels."
   ]
  },
  {
   "cell_type": "markdown",
   "id": "408a1908",
   "metadata": {},
   "source": [
    "## Conventional Hydroelectric Power:\n",
    "Conventional Hydroelectric Power exhibits a strong positive correlation with the Electric Power sector (0.98). This correlation underscores the dominant role of hydroelectricity in electricity generation, especially in regions with significant hydroelectric infrastructure.\n"
   ]
  },
  {
   "cell_type": "markdown",
   "id": "4b86abe2",
   "metadata": {},
   "source": [
    "## Biodiesel:\n",
    "Biodiesel shows a strong positive correlation with Fuel Ethanol (0.91) and Other Biofuels (0.57). This suggests that biofuel production, including biodiesel, ethanol, and other alternative fuels, may be influenced by common factors such as government policies supporting renewable fuel standards or incentives for biofuel production.\n"
   ]
  },
  {
   "cell_type": "markdown",
   "id": "e8af768b",
   "metadata": {},
   "source": [
    "## According to type of electricity consumed\n"
   ]
  },
  {
   "cell_type": "code",
   "execution_count": null,
   "id": "8ee5d077",
   "metadata": {},
   "outputs": [],
   "source": [
    "electricity_consumption_data = df\n",
    "\n",
    "electricity_consumption_data['Total_Renewable_Energy'] = electricity_consumption_data[['Solar Energy', 'Wind Energy', 'Hydroelectric Power', 'Other Biofuels', 'Conventional Hydroelectric Power']].sum(axis=1)\n",
    "electricity_consumption_data['Solar_Contribution'] = electricity_consumption_data['Solar Energy'] / electricity_consumption_data['Total_Renewable_Energy']\n",
    "electricity_consumption_data['Wind_Contribution'] = electricity_consumption_data['Wind Energy'] / electricity_consumption_data['Total_Renewable_Energy']\n",
    "electricity_consumption_data['Hydro_Contribution'] = electricity_consumption_data['Hydroelectric Power'] / electricity_consumption_data['Total_Renewable_Energy']\n",
    "electricity_consumption_data['Other_Biofuels_Contribution'] = electricity_consumption_data['Other Biofuels'] / electricity_consumption_data['Total_Renewable_Energy']\n",
    "electricity_consumption_data['Conventional_Hydroelectric_Power_Contribution'] = electricity_consumption_data['Conventional Hydroelectric Power'] / electricity_consumption_data['Total_Renewable_Energy']\n",
    "\n",
    "years = electricity_consumption_data['Year'].unique()\n",
    "\n",
    "plt.figure(figsize=(12, 8))\n",
    "\n",
    "plt.stackplot(years, \n",
    "              electricity_consumption_data.groupby('Year')['Solar_Contribution'].sum(),\n",
    "              electricity_consumption_data.groupby('Year')['Wind_Contribution'].sum(),\n",
    "              electricity_consumption_data.groupby('Year')['Hydro_Contribution'].sum(),\n",
    "              electricity_consumption_data.groupby('Year')['Other_Biofuels_Contribution'].sum(),\n",
    "              electricity_consumption_data.groupby('Year')['Conventional_Hydroelectric_Power_Contribution'].sum(),\n",
    "              labels=['Solar', 'Wind', 'Hydro', 'Other Biofuels', 'Conventional Hydroelectric Power'],\n",
    "              colors=['gold', 'skyblue', 'lightgreen', 'orange', 'lightcoral'])\n",
    "plt.xlabel('Year')\n",
    "plt.ylabel('Contribution to Total Renewable Energy Production')\n",
    "plt.title('Contribution of Different Energy Sources to Total Renewable Energy Production Over Time')\n",
    "plt.legend(loc='upper left')\n",
    "plt.xticks(years, rotation=45)\n",
    "plt.tight_layout()\n",
    "plt.show()"
   ]
  },
  {
   "cell_type": "markdown",
   "id": "8176934e",
   "metadata": {},
   "source": [
    "## Applying Machine Learning Model"
   ]
  },
  {
   "cell_type": "code",
   "execution_count": null,
   "id": "12e62d03",
   "metadata": {},
   "outputs": [],
   "source": [
    "import tensorflow as tf"
   ]
  },
  {
   "cell_type": "code",
   "execution_count": null,
   "id": "83a0159c",
   "metadata": {},
   "outputs": [],
   "source": [
    "\n"
   ]
  },
  {
   "cell_type": "code",
   "execution_count": null,
   "id": "655bc84a",
   "metadata": {},
   "outputs": [],
   "source": []
  },
  {
   "cell_type": "code",
   "execution_count": null,
   "id": "66e20c9c",
   "metadata": {},
   "outputs": [],
   "source": [
    "import tensorflow as tf"
   ]
  },
  {
   "cell_type": "code",
   "execution_count": null,
   "id": "3d564c13",
   "metadata": {},
   "outputs": [],
   "source": [
    "data = df.drop(columns=['Sector'])\n",
    "data = data[data['Year'] != 2024]\n",
    "data_grouped = data.groupby('Year').sum()\n",
    "data_grouped.drop(columns=['Month'], inplace=True)"
   ]
  },
  {
   "cell_type": "code",
   "execution_count": null,
   "id": "3c413fb6",
   "metadata": {},
   "outputs": [],
   "source": [
    "data_grouped.head()"
   ]
  },
  {
   "cell_type": "code",
   "execution_count": null,
   "id": "9cf2d45f",
   "metadata": {},
   "outputs": [],
   "source": [
    "data_grouped.reset_index(inplace=True)\n",
    "\n",
    "data_grouped.index = data_grouped.index - data_grouped.index.min()"
   ]
  },
  {
   "cell_type": "code",
   "execution_count": null,
   "id": "925faac5",
   "metadata": {},
   "outputs": [],
   "source": [
    "data_grouped.drop(columns=[], inplace=True)"
   ]
  },
  {
   "cell_type": "code",
   "execution_count": null,
   "id": "ef330a9a",
   "metadata": {},
   "outputs": [],
   "source": [
    "data_grouped.head()"
   ]
  },
  {
   "cell_type": "code",
   "execution_count": null,
   "id": "3c7a7c51",
   "metadata": {},
   "outputs": [],
   "source": [
    "energy_data = data_grouped"
   ]
  },
  {
   "cell_type": "code",
   "execution_count": null,
   "id": "5560836c",
   "metadata": {},
   "outputs": [],
   "source": [
    "class SimpleForecastingModel(tf.keras.Model):\n",
    "    def __init__(self, hidden_size, output_size):\n",
    "        super(SimpleForecastingModel, self).__init__()\n",
    "        self.hidden_size = hidden_size\n",
    "        self.rnn = tf.keras.layers.SimpleRNN(hidden_size, return_sequences=True, return_state=True)\n",
    "        self.fc = tf.keras.layers.Dense(output_size)\n",
    "        \n",
    "    def call(self, inputs):\n",
    "        out, _ = self.rnn(inputs)\n",
    "        out = self.fc(out[:, -1, :])\n",
    "        return out"
   ]
  },
  {
   "cell_type": "code",
   "execution_count": null,
   "id": "3663d25d",
   "metadata": {},
   "outputs": [],
   "source": [
    "import seaborn as sns\n",
    "import matplotlib.pyplot as plt\n",
    "\n",
    "# Compute correlation matrix\n",
    "corr_matrix = df.corr()\n",
    "\n",
    "# Plot heatmap\n",
    "plt.figure(figsize=(10, 6))\n",
    "sns.heatmap(corr_matrix, annot=True, cmap=\"coolwarm\", fmt=\".2f\", linewidths=0.5)\n",
    "plt.title(\"Correlation Heatmap of Renewable Energy Sources\")\n",
    "plt.show()\n"
   ]
  },
  {
   "cell_type": "code",
   "execution_count": null,
   "id": "251a0539",
   "metadata": {},
   "outputs": [],
   "source": [
    "%pip install seaborn matplotlib pandas scikit-learn\n"
   ]
  },
  {
   "cell_type": "code",
   "execution_count": null,
   "id": "61f68ee7",
   "metadata": {},
   "outputs": [],
   "source": [
    "import seaborn as sns\n",
    "import matplotlib.pyplot as plt\n",
    "import pandas as pd\n",
    "import numpy as np\n",
    "\n",
    "print(\"Libraries imported successfully!\")\n",
    "\n"
   ]
  },
  {
   "cell_type": "code",
   "execution_count": null,
   "id": "cdc3e1db",
   "metadata": {},
   "outputs": [],
   "source": [
    "plt.figure(figsize=(12, 6))\n",
    "for col in df.columns[1:]:  # Assuming first column is 'Year'\n",
    "    plt.plot(df['Year'], df[col], label=col)\n",
    "\n",
    "plt.xlabel(\"Year\")\n",
    "plt.ylabel(\"Energy Consumption (TWh)\")\n",
    "plt.title(\"Renewable Energy Consumption Over Time\")\n",
    "plt.legend()\n",
    "plt.show()\n"
   ]
  },
  {
   "cell_type": "code",
   "execution_count": null,
   "id": "f2b83496",
   "metadata": {},
   "outputs": [],
   "source": [
    "df"
   ]
  },
  {
   "cell_type": "code",
   "execution_count": null,
   "id": "1b123711",
   "metadata": {},
   "outputs": [],
   "source": [
    "df = pd.read_csv(\"/Users/macfreaks/Downloads/Renewable_energy.csv\")\n",
    "df = df.sort_index()"
   ]
  },
  {
   "cell_type": "code",
   "execution_count": null,
   "id": "8a7a860c",
   "metadata": {},
   "outputs": [],
   "source": [
    "df"
   ]
  },
  {
   "cell_type": "code",
   "execution_count": null,
   "id": "c0ba3230",
   "metadata": {},
   "outputs": [],
   "source": [
    "df.plot(figsize=(12, 6))\n",
    "plt.title(\"Renewable Energy Consumption Over Time\")\n",
    "plt.show()"
   ]
  },
  {
   "cell_type": "code",
   "execution_count": null,
   "id": "4eb8a48f",
   "metadata": {},
   "outputs": [],
   "source": [
    "global energy_col\n",
    "energy_col = df.columns[0]  # Select the first column dynamically\n",
    "print(\"Using column:\", energy_col)\n"
   ]
  },
  {
   "cell_type": "code",
   "execution_count": null,
   "id": "12d0f253",
   "metadata": {},
   "outputs": [],
   "source": [
    "\n",
    "\n",
    "\n",
    "df.plot(y=energy_col, figsize=(12, 6))\n",
    "plt.title(\"Renewable Energy Consumption Over Time\")\n",
    "plt.xlabel(\"Date\")\n",
    "plt.ylabel(\"Energy Consumption\")\n",
    "plt.show()\n"
   ]
  },
  {
   "cell_type": "code",
   "execution_count": null,
   "id": "13bad247",
   "metadata": {},
   "outputs": [],
   "source": [
    "result = adfuller(df[energy_col].dropna())\n",
    "print(\"ADF Test p-value:\", result[1])\n"
   ]
  },
  {
   "cell_type": "code",
   "execution_count": null,
   "id": "e47bad01",
   "metadata": {},
   "outputs": [],
   "source": [
    "# ARIMA Model\n",
    "model_arima = ARIMA(df[energy_col], order=(5,1,0))\n",
    "model_fit = model_arima.fit()\n",
    "print(model_fit.summary())\n"
   ]
  },
  {
   "cell_type": "code",
   "execution_count": null,
   "id": "07c525cb",
   "metadata": {},
   "outputs": [],
   "source": [
    "df[\"ARIMA_Pred\"] = model_fit.predict(start=0, end=len(df)-1)\n",
    "plt.figure(figsize=(12,6))\n",
    "plt.plot(df.index, df[energy_col], label=\"Actual\")\n",
    "plt.plot(df.index, df[\"ARIMA_Pred\"], label=\"ARIMA Prediction\", linestyle='dashed')\n",
    "plt.xlabel(\"Date\")\n",
    "plt.ylabel(\"Energy Consumption\")\n",
    "plt.legend()\n",
    "plt.show()\n"
   ]
  },
  {
   "cell_type": "code",
   "execution_count": null,
   "id": "ee7d6b34",
   "metadata": {},
   "outputs": [],
   "source": [
    "scaler = MinMaxScaler()\n",
    "df_scaled = scaler.fit_transform(df[[energy_col]])\n",
    "\n",
    "def create_sequences(data, seq_length=10):\n",
    "    X, y = [], []\n",
    "    for i in range(len(data) - seq_length):\n",
    "        X.append(data[i:i+seq_length])\n",
    "        y.append(data[i+seq_length])\n",
    "    return np.array(X), np.array(y)\n",
    "\n",
    "seq_length = 10\n",
    "X, y = create_sequences(df_scaled, seq_length)\n",
    "X_train, X_test = X[:-30], X[-30:]\n",
    "y_train, y_test = y[:-30], y[-30:]\n",
    "\n",
    "model_lstm = Sequential([\n",
    "    LSTM(50, return_sequences=True, input_shape=(seq_length, 1)),\n",
    "    LSTM(50, return_sequences=False),\n",
    "    Dense(25),\n",
    "    Dense(1)\n",
    "])\n",
    "\n",
    "model_lstm.compile(optimizer='adam', loss='mse')\n",
    "model_lstm.fit(X_train, y_train, epochs=20, batch_size=16, verbose=1)\n",
    "\n",
    "y_pred = model_lstm.predict(X_test)\n",
    "y_pred = scaler.inverse_transform(y_pred)\n",
    "\n",
    "plt.figure(figsize=(12,6))\n",
    "plt.plot(df.index[-30:], df[energy_col].iloc[-30:], label=\"Actual\")\n",
    "plt.plot(df.index[-30:], y_pred, label=\"LSTM Prediction\", linestyle='dashed')\n",
    "plt.legend()\n",
    "plt.xlabel(\"Date\")\n",
    "plt.ylabel(\"Energy Consumption\")\n",
    "plt.show()\n"
   ]
  },
  {
   "cell_type": "code",
   "execution_count": null,
   "id": "9dc1d10c",
   "metadata": {},
   "outputs": [],
   "source": []
  },
  {
   "cell_type": "code",
   "execution_count": null,
   "id": "5d1b8622",
   "metadata": {},
   "outputs": [],
   "source": []
  },
  {
   "cell_type": "code",
   "execution_count": null,
   "id": "5037aeef",
   "metadata": {},
   "outputs": [],
   "source": []
  },
  {
   "cell_type": "code",
   "execution_count": null,
   "id": "7381a88a",
   "metadata": {},
   "outputs": [],
   "source": []
  }
 ],
 "metadata": {
  "kernelspec": {
   "display_name": "Python 3 (ipykernel)",
   "language": "python",
   "name": "python3"
  },
  "language_info": {
   "codemirror_mode": {
    "name": "ipython",
    "version": 3
   },
   "file_extension": ".py",
   "mimetype": "text/x-python",
   "name": "python",
   "nbconvert_exporter": "python",
   "pygments_lexer": "ipython3",
   "version": "3.11.4"
  }
 },
 "nbformat": 4,
 "nbformat_minor": 5
}
